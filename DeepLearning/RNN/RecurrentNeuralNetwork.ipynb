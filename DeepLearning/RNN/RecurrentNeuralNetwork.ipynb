{
 "cells": [
  {
   "cell_type": "markdown",
   "id": "ffa999e8",
   "metadata": {
    "colab_type": "text",
    "id": "xpAuMVCwfWs8"
   },
   "source": [
    "# Recurrent Neural Network"
   ]
  },
  {
   "cell_type": "markdown",
   "id": "411a93e1",
   "metadata": {
    "colab_type": "text",
    "id": "nxJfRe4bfYVA"
   },
   "source": [
    "## Part 1 - Data Preprocessing"
   ]
  },
  {
   "cell_type": "markdown",
   "id": "d9a41642",
   "metadata": {
    "colab_type": "text",
    "id": "ir9zwETrfbrp"
   },
   "source": [
    "### Importing the libraries"
   ]
  },
  {
   "cell_type": "code",
   "execution_count": 17,
   "id": "ceb05bb3",
   "metadata": {},
   "outputs": [],
   "source": [
    "import numpy as np\n",
    "import matplotlib.pyplot as plt\n",
    "import pandas as pd"
   ]
  },
  {
   "cell_type": "markdown",
   "id": "9983abbd",
   "metadata": {
    "colab_type": "text",
    "id": "nQ47JAxrgmaL"
   },
   "source": [
    "### Importing the training set"
   ]
  },
  {
   "cell_type": "code",
   "execution_count": 18,
   "id": "ee66a624",
   "metadata": {},
   "outputs": [],
   "source": [
    "dataset_train = pd.read_csv('wti-crude-oil-prices-10-year-daily-chart-train.csv')\n",
    "training_set = dataset_train.iloc[:, 1:2].values"
   ]
  },
  {
   "cell_type": "code",
   "execution_count": 19,
   "id": "95c886e0",
   "metadata": {},
   "outputs": [
    {
     "data": {
      "text/plain": [
       "(2495, 1)"
      ]
     },
     "execution_count": 19,
     "metadata": {},
     "output_type": "execute_result"
    }
   ],
   "source": [
    "training_set.shape"
   ]
  },
  {
   "cell_type": "markdown",
   "id": "54aab900",
   "metadata": {
    "colab_type": "text",
    "id": "HT8_2UJegtG5"
   },
   "source": [
    "### Feature Scaling"
   ]
  },
  {
   "cell_type": "code",
   "execution_count": 20,
   "id": "79f52d6d",
   "metadata": {},
   "outputs": [],
   "source": [
    "from sklearn.preprocessing import MinMaxScaler\n",
    "sc = MinMaxScaler(feature_range = (0, 1))\n",
    "training_set_scaled = sc.fit_transform(training_set)"
   ]
  },
  {
   "cell_type": "markdown",
   "id": "4e6c0cb2",
   "metadata": {
    "colab_type": "text",
    "id": "JyYgYocqhNUg"
   },
   "source": [
    "### Creating a data structure with 45 timesteps and 1 output"
   ]
  },
  {
   "cell_type": "code",
   "execution_count": 21,
   "id": "78a22a79",
   "metadata": {},
   "outputs": [],
   "source": [
    "X_train = []\n",
    "y_train = []\n",
    "for i in range(45, 2495):\n",
    "    X_train.append(training_set_scaled[i-45:i, 0])\n",
    "    y_train.append(training_set_scaled[i, 0])\n",
    "X_train, y_train = np.array(X_train), np.array(y_train)"
   ]
  },
  {
   "cell_type": "markdown",
   "id": "e3c3a9af",
   "metadata": {
    "colab_type": "text",
    "id": "D8yaN7Zvi95l"
   },
   "source": [
    "### Reshaping"
   ]
  },
  {
   "cell_type": "code",
   "execution_count": 22,
   "id": "dc23ab30",
   "metadata": {},
   "outputs": [],
   "source": [
    "X_train = np.reshape(X_train, (X_train.shape[0], X_train.shape[1], 1))"
   ]
  },
  {
   "cell_type": "markdown",
   "id": "6236fdcb",
   "metadata": {
    "colab_type": "text",
    "id": "ZRRSOJeVjEWV"
   },
   "source": [
    "## Part 2 - Building and Training the RNN"
   ]
  },
  {
   "cell_type": "code",
   "execution_count": 23,
   "id": "0cca62e3",
   "metadata": {},
   "outputs": [
    {
     "data": {
      "text/plain": [
       "array([[[0.76183277],\n",
       "        [0.76556803],\n",
       "        [0.768325  ],\n",
       "        ...,\n",
       "        [0.70331371],\n",
       "        [0.69006243],\n",
       "        [0.67636648]],\n",
       "\n",
       "       [[0.76556803],\n",
       "        [0.768325  ],\n",
       "        [0.7721492 ],\n",
       "        ...,\n",
       "        [0.69006243],\n",
       "        [0.67636648],\n",
       "        [0.66267053]],\n",
       "\n",
       "       [[0.768325  ],\n",
       "        [0.7721492 ],\n",
       "        [0.76583483],\n",
       "        ...,\n",
       "        [0.67636648],\n",
       "        [0.66267053],\n",
       "        [0.66311521]],\n",
       "\n",
       "       ...,\n",
       "\n",
       "       [[0.62336138],\n",
       "        [0.63901389],\n",
       "        [0.6395475 ],\n",
       "        ...,\n",
       "        [0.59107807],\n",
       "        [0.59845965],\n",
       "        [0.6098433 ]],\n",
       "\n",
       "       [[0.63901389],\n",
       "        [0.6395475 ],\n",
       "        [0.64434998],\n",
       "        ...,\n",
       "        [0.59845965],\n",
       "        [0.6098433 ],\n",
       "        [0.60450721]],\n",
       "\n",
       "       [[0.6395475 ],\n",
       "        [0.64434998],\n",
       "        [0.65715658],\n",
       "        ...,\n",
       "        [0.6098433 ],\n",
       "        [0.60450721],\n",
       "        [0.59276783]]])"
      ]
     },
     "execution_count": 23,
     "metadata": {},
     "output_type": "execute_result"
    }
   ],
   "source": [
    "X_train"
   ]
  },
  {
   "cell_type": "markdown",
   "id": "3c6be82f",
   "metadata": {
    "colab_type": "text",
    "id": "k4XV88JMjHXG"
   },
   "source": [
    "### Importing the Keras libraries and packages"
   ]
  },
  {
   "cell_type": "code",
   "execution_count": 24,
   "id": "89ad4152",
   "metadata": {},
   "outputs": [],
   "source": [
    "from keras.models import Sequential\n",
    "from keras.layers import Dense\n",
    "from keras.layers import LSTM\n",
    "from keras.layers import Dropout"
   ]
  },
  {
   "cell_type": "markdown",
   "id": "3a6903e3",
   "metadata": {
    "colab_type": "text",
    "id": "FEIE-1s9jNzC"
   },
   "source": [
    "### Initialising the RNN"
   ]
  },
  {
   "cell_type": "code",
   "execution_count": 25,
   "id": "c8a8cce6",
   "metadata": {
    "colab": {},
    "colab_type": "code",
    "id": "1338dJ0UjRKH"
   },
   "outputs": [],
   "source": [
    "regressor = Sequential()"
   ]
  },
  {
   "cell_type": "markdown",
   "id": "704a1f31",
   "metadata": {
    "colab_type": "text",
    "id": "62eg1OPGjT8z"
   },
   "source": [
    "### Adding the first LSTM layer and some Dropout regularisation"
   ]
  },
  {
   "cell_type": "code",
   "execution_count": 26,
   "id": "b93b6481",
   "metadata": {
    "colab": {},
    "colab_type": "code",
    "id": "2hIinyXUjbVU"
   },
   "outputs": [],
   "source": [
    "regressor.add(LSTM(units = 50, return_sequences = True, input_shape = (X_train.shape[1], 1)))\n",
    "regressor.add(Dropout(0.2))"
   ]
  },
  {
   "cell_type": "markdown",
   "id": "3baca1cb",
   "metadata": {
    "colab_type": "text",
    "id": "3XBIYLyOjlMx"
   },
   "source": [
    "### Adding a second LSTM layer and some Dropout regularisation"
   ]
  },
  {
   "cell_type": "code",
   "execution_count": 27,
   "id": "392b69ac",
   "metadata": {
    "colab": {},
    "colab_type": "code",
    "id": "UG7nrVaSjuZ2"
   },
   "outputs": [],
   "source": [
    "regressor.add(LSTM(units = 50, return_sequences = True))\n",
    "regressor.add(Dropout(0.2))"
   ]
  },
  {
   "cell_type": "markdown",
   "id": "f18694c4",
   "metadata": {
    "colab_type": "text",
    "id": "Ey3fHVnGj1cu"
   },
   "source": [
    "### Adding a third LSTM layer and some Dropout regularisation"
   ]
  },
  {
   "cell_type": "code",
   "execution_count": 28,
   "id": "d1559faf",
   "metadata": {
    "colab": {},
    "colab_type": "code",
    "id": "PuNi6PgFj7jO"
   },
   "outputs": [],
   "source": [
    "regressor.add(LSTM(units = 50, return_sequences = True))\n",
    "regressor.add(Dropout(0.2))"
   ]
  },
  {
   "cell_type": "markdown",
   "id": "03efc18d",
   "metadata": {
    "colab_type": "text",
    "id": "SYTrtfTmj933"
   },
   "source": [
    "### Adding a fourth LSTM layer and some Dropout regularisation"
   ]
  },
  {
   "cell_type": "code",
   "execution_count": 29,
   "id": "b42dcc28",
   "metadata": {
    "colab": {},
    "colab_type": "code",
    "id": "Jp4Ty8fRkBYV"
   },
   "outputs": [],
   "source": [
    "regressor.add(LSTM(units = 50))\n",
    "regressor.add(Dropout(0.2))"
   ]
  },
  {
   "cell_type": "markdown",
   "id": "6dfce1e0",
   "metadata": {
    "colab_type": "text",
    "id": "9ABI6rOIkHhk"
   },
   "source": [
    "### Adding the output layer"
   ]
  },
  {
   "cell_type": "code",
   "execution_count": 30,
   "id": "ffee2c5d",
   "metadata": {
    "colab": {},
    "colab_type": "code",
    "id": "aM6R1z4WkME8"
   },
   "outputs": [],
   "source": [
    "regressor.add(Dense(units = 1))"
   ]
  },
  {
   "cell_type": "markdown",
   "id": "a5a6410c",
   "metadata": {
    "colab_type": "text",
    "id": "zLx4K7uUkPSh"
   },
   "source": [
    "### Compiling the RNN"
   ]
  },
  {
   "cell_type": "code",
   "execution_count": 31,
   "id": "32c1f3ae",
   "metadata": {
    "colab": {},
    "colab_type": "code",
    "id": "XTrhVN-tkbko"
   },
   "outputs": [],
   "source": [
    "regressor.compile(optimizer = 'adam', loss = 'mean_squared_error')"
   ]
  },
  {
   "cell_type": "markdown",
   "id": "600906f3",
   "metadata": {
    "colab_type": "text",
    "id": "-mPhwKGkkebi"
   },
   "source": [
    "### Fitting the RNN to the Training set"
   ]
  },
  {
   "cell_type": "code",
   "execution_count": 32,
   "id": "4a4d37c4",
   "metadata": {
    "colab": {
     "base_uri": "https://localhost:8080/",
     "height": 1000
    },
    "colab_type": "code",
    "id": "I06Nkrz5kkb-",
    "outputId": "dc9d947a-4d5c-4dbc-ed45-31bf44b98dfb"
   },
   "outputs": [
    {
     "name": "stdout",
     "output_type": "stream",
     "text": [
      "Epoch 1/100\n",
      "77/77 [==============================] - 12s 58ms/step - loss: 0.0179\n",
      "Epoch 2/100\n",
      "77/77 [==============================] - 5s 63ms/step - loss: 0.0040\n",
      "Epoch 3/100\n",
      "77/77 [==============================] - 4s 57ms/step - loss: 0.0036\n",
      "Epoch 4/100\n",
      "77/77 [==============================] - 5s 59ms/step - loss: 0.0037\n",
      "Epoch 5/100\n",
      "77/77 [==============================] - 5s 61ms/step - loss: 0.0034\n",
      "Epoch 6/100\n",
      "77/77 [==============================] - 5s 60ms/step - loss: 0.0028\n",
      "Epoch 7/100\n",
      "77/77 [==============================] - 4s 57ms/step - loss: 0.0026\n",
      "Epoch 8/100\n",
      "77/77 [==============================] - 4s 57ms/step - loss: 0.0027\n",
      "Epoch 9/100\n",
      "77/77 [==============================] - 5s 64ms/step - loss: 0.0027\n",
      "Epoch 10/100\n",
      "77/77 [==============================] - 4s 57ms/step - loss: 0.0026\n",
      "Epoch 11/100\n",
      "77/77 [==============================] - 5s 59ms/step - loss: 0.0024\n",
      "Epoch 12/100\n",
      "77/77 [==============================] - 5s 60ms/step - loss: 0.0024\n",
      "Epoch 13/100\n",
      "77/77 [==============================] - 5s 60ms/step - loss: 0.0024\n",
      "Epoch 14/100\n",
      "77/77 [==============================] - 4s 57ms/step - loss: 0.0021\n",
      "Epoch 15/100\n",
      "77/77 [==============================] - 4s 57ms/step - loss: 0.0021\n",
      "Epoch 16/100\n",
      "77/77 [==============================] - 5s 63ms/step - loss: 0.0020\n",
      "Epoch 17/100\n",
      "77/77 [==============================] - 5s 58ms/step - loss: 0.0019\n",
      "Epoch 18/100\n",
      "77/77 [==============================] - 4s 58ms/step - loss: 0.0018\n",
      "Epoch 19/100\n",
      "77/77 [==============================] - 5s 60ms/step - loss: 0.0019\n",
      "Epoch 20/100\n",
      "77/77 [==============================] - 5s 60ms/step - loss: 0.0017\n",
      "Epoch 21/100\n",
      "77/77 [==============================] - 4s 57ms/step - loss: 0.0016\n",
      "Epoch 22/100\n",
      "77/77 [==============================] - 4s 56ms/step - loss: 0.0016\n",
      "Epoch 23/100\n",
      "77/77 [==============================] - 5s 63ms/step - loss: 0.0016\n",
      "Epoch 24/100\n",
      "77/77 [==============================] - 5s 61ms/step - loss: 0.0015\n",
      "Epoch 25/100\n",
      "77/77 [==============================] - 5s 59ms/step - loss: 0.0016\n",
      "Epoch 26/100\n",
      "77/77 [==============================] - 5s 60ms/step - loss: 0.0014\n",
      "Epoch 27/100\n",
      "77/77 [==============================] - 5s 60ms/step - loss: 0.0014\n",
      "Epoch 28/100\n",
      "77/77 [==============================] - 4s 58ms/step - loss: 0.0014\n",
      "Epoch 29/100\n",
      "77/77 [==============================] - 4s 58ms/step - loss: 0.0013\n",
      "Epoch 30/100\n",
      "77/77 [==============================] - 5s 66ms/step - loss: 0.0013\n",
      "Epoch 31/100\n",
      "77/77 [==============================] - 5s 61ms/step - loss: 0.0012\n",
      "Epoch 32/100\n",
      "77/77 [==============================] - 4s 58ms/step - loss: 0.0012\n",
      "Epoch 33/100\n",
      "77/77 [==============================] - 5s 62ms/step - loss: 0.0011\n",
      "Epoch 34/100\n",
      "77/77 [==============================] - 5s 60ms/step - loss: 0.0011\n",
      "Epoch 35/100\n",
      "77/77 [==============================] - 5s 60ms/step - loss: 0.0011\n",
      "Epoch 36/100\n",
      "77/77 [==============================] - 5s 63ms/step - loss: 0.0011\n",
      "Epoch 37/100\n",
      "77/77 [==============================] - 6s 80ms/step - loss: 0.0010\n",
      "Epoch 38/100\n",
      "77/77 [==============================] - 5s 61ms/step - loss: 9.0349e-04\n",
      "Epoch 39/100\n",
      "77/77 [==============================] - 5s 60ms/step - loss: 0.0011\n",
      "Epoch 40/100\n",
      "77/77 [==============================] - 6s 76ms/step - loss: 0.0010\n",
      "Epoch 41/100\n",
      "77/77 [==============================] - 5s 64ms/step - loss: 9.7203e-04\n",
      "Epoch 42/100\n",
      "77/77 [==============================] - 5s 60ms/step - loss: 9.8411e-04\n",
      "Epoch 43/100\n",
      "77/77 [==============================] - 5s 63ms/step - loss: 8.5154e-04\n",
      "Epoch 44/100\n",
      "77/77 [==============================] - 5s 60ms/step - loss: 8.4726e-04\n",
      "Epoch 45/100\n",
      "77/77 [==============================] - 4s 57ms/step - loss: 8.7331e-04\n",
      "Epoch 46/100\n",
      "77/77 [==============================] - 5s 60ms/step - loss: 9.2707e-04\n",
      "Epoch 47/100\n",
      "77/77 [==============================] - 5s 60ms/step - loss: 9.1515e-04\n",
      "Epoch 48/100\n",
      "77/77 [==============================] - 4s 58ms/step - loss: 8.4476e-04\n",
      "Epoch 49/100\n",
      "77/77 [==============================] - 5s 58ms/step - loss: 8.2528e-04\n",
      "Epoch 50/100\n",
      "77/77 [==============================] - 5s 63ms/step - loss: 7.4732e-04\n",
      "Epoch 51/100\n",
      "77/77 [==============================] - 5s 61ms/step - loss: 8.1283e-04\n",
      "Epoch 52/100\n",
      "77/77 [==============================] - 4s 58ms/step - loss: 7.2220e-04\n",
      "Epoch 53/100\n",
      "77/77 [==============================] - 5s 61ms/step - loss: 7.3782e-04\n",
      "Epoch 54/100\n",
      "77/77 [==============================] - 5s 59ms/step - loss: 7.0434e-04\n",
      "Epoch 55/100\n",
      "77/77 [==============================] - 4s 57ms/step - loss: 7.3103e-04\n",
      "Epoch 56/100\n",
      "77/77 [==============================] - 4s 58ms/step - loss: 7.7670e-04\n",
      "Epoch 57/100\n",
      "77/77 [==============================] - 5s 64ms/step - loss: 6.6187e-04\n",
      "Epoch 58/100\n",
      "77/77 [==============================] - 5s 59ms/step - loss: 6.8422e-04\n",
      "Epoch 59/100\n",
      "77/77 [==============================] - 4s 58ms/step - loss: 6.5428e-04\n",
      "Epoch 60/100\n",
      "77/77 [==============================] - 5s 61ms/step - loss: 6.4122e-04\n",
      "Epoch 61/100\n",
      "77/77 [==============================] - 5s 59ms/step - loss: 7.1425e-04\n",
      "Epoch 62/100\n",
      "77/77 [==============================] - 4s 57ms/step - loss: 6.9644e-04\n",
      "Epoch 63/100\n",
      "77/77 [==============================] - 4s 57ms/step - loss: 6.8668e-04\n",
      "Epoch 64/100\n",
      "77/77 [==============================] - 5s 63ms/step - loss: 6.3368e-04\n",
      "Epoch 65/100\n",
      "77/77 [==============================] - 4s 58ms/step - loss: 7.6435e-04\n",
      "Epoch 66/100\n",
      "77/77 [==============================] - 5s 59ms/step - loss: 6.4482e-04\n",
      "Epoch 67/100\n",
      "77/77 [==============================] - 5s 61ms/step - loss: 7.1877e-04\n",
      "Epoch 68/100\n",
      "77/77 [==============================] - 5s 59ms/step - loss: 6.7795e-04\n",
      "Epoch 69/100\n",
      "77/77 [==============================] - 4s 58ms/step - loss: 6.5457e-04\n",
      "Epoch 70/100\n",
      "77/77 [==============================] - 5s 67ms/step - loss: 5.9798e-04\n",
      "Epoch 71/100\n",
      "77/77 [==============================] - 5s 65ms/step - loss: 6.2968e-04\n",
      "Epoch 72/100\n",
      "77/77 [==============================] - 5s 60ms/step - loss: 5.7508e-04\n",
      "Epoch 73/100\n",
      "77/77 [==============================] - 5s 59ms/step - loss: 6.0719e-04\n",
      "Epoch 74/100\n",
      "77/77 [==============================] - 5s 64ms/step - loss: 5.9943e-04\n",
      "Epoch 75/100\n",
      "77/77 [==============================] - 5s 59ms/step - loss: 5.7955e-04\n",
      "Epoch 76/100\n",
      "77/77 [==============================] - 5s 59ms/step - loss: 5.5065e-04\n",
      "Epoch 77/100\n",
      "77/77 [==============================] - 5s 63ms/step - loss: 5.9008e-04\n",
      "Epoch 78/100\n",
      "77/77 [==============================] - 5s 65ms/step - loss: 6.1403e-04\n",
      "Epoch 79/100\n",
      "77/77 [==============================] - 5s 59ms/step - loss: 6.1651e-04\n",
      "Epoch 80/100\n",
      "77/77 [==============================] - 5s 59ms/step - loss: 5.8568e-04\n",
      "Epoch 81/100\n",
      "77/77 [==============================] - 5s 65ms/step - loss: 6.3646e-04\n",
      "Epoch 82/100\n",
      "77/77 [==============================] - 5s 60ms/step - loss: 5.9988e-04\n",
      "Epoch 83/100\n",
      "77/77 [==============================] - 5s 59ms/step - loss: 5.7367e-04\n",
      "Epoch 84/100\n",
      "77/77 [==============================] - 5s 66ms/step - loss: 5.6070e-04\n",
      "Epoch 85/100\n",
      "77/77 [==============================] - 5s 62ms/step - loss: 5.9783e-04\n",
      "Epoch 86/100\n",
      "77/77 [==============================] - 5s 60ms/step - loss: 5.1087e-04\n",
      "Epoch 87/100\n",
      "77/77 [==============================] - 5s 64ms/step - loss: 5.4039e-04\n",
      "Epoch 88/100\n",
      "77/77 [==============================] - 5s 63ms/step - loss: 5.3429e-04\n",
      "Epoch 89/100\n",
      "77/77 [==============================] - 5s 62ms/step - loss: 5.1887e-04\n",
      "Epoch 90/100\n",
      "77/77 [==============================] - 5s 60ms/step - loss: 5.8142e-04\n",
      "Epoch 91/100\n",
      "77/77 [==============================] - 5s 65ms/step - loss: 5.5022e-04\n",
      "Epoch 92/100\n",
      "77/77 [==============================] - 5s 61ms/step - loss: 5.8342e-04\n",
      "Epoch 93/100\n",
      "77/77 [==============================] - 5s 62ms/step - loss: 5.9208e-04\n",
      "Epoch 94/100\n",
      "77/77 [==============================] - 5s 66ms/step - loss: 5.8032e-04\n",
      "Epoch 95/100\n",
      "77/77 [==============================] - 5s 63ms/step - loss: 5.7099e-04\n",
      "Epoch 96/100\n",
      "77/77 [==============================] - 5s 59ms/step - loss: 5.0603e-04\n",
      "Epoch 97/100\n",
      "77/77 [==============================] - 5s 62ms/step - loss: 5.5063e-04\n",
      "Epoch 98/100\n"
     ]
    },
    {
     "name": "stdout",
     "output_type": "stream",
     "text": [
      "77/77 [==============================] - 5s 62ms/step - loss: 5.7294e-04\n",
      "Epoch 99/100\n",
      "77/77 [==============================] - 5s 61ms/step - loss: 5.4384e-04\n",
      "Epoch 100/100\n",
      "77/77 [==============================] - 5s 63ms/step - loss: 6.2615e-04\n"
     ]
    },
    {
     "data": {
      "text/plain": [
       "<keras.callbacks.History at 0x1a2fa4e4c70>"
      ]
     },
     "execution_count": 32,
     "metadata": {},
     "output_type": "execute_result"
    }
   ],
   "source": [
    "regressor.fit(X_train, y_train, epochs = 100, batch_size = 32)"
   ]
  },
  {
   "cell_type": "markdown",
   "id": "9e360e22",
   "metadata": {
    "colab_type": "text",
    "id": "4hRau_lIkrE8"
   },
   "source": [
    "## Part 3 - Making the predictions and visualising the results"
   ]
  },
  {
   "cell_type": "markdown",
   "id": "b8fd966c",
   "metadata": {
    "colab_type": "text",
    "id": "SgJO6qEDksxD"
   },
   "source": [
    "### Getting the crude price of june and july 2024"
   ]
  },
  {
   "cell_type": "code",
   "execution_count": 45,
   "id": "e05fa711",
   "metadata": {
    "colab": {},
    "colab_type": "code",
    "id": "FmBT2zqukxTz"
   },
   "outputs": [],
   "source": [
    "dataset_test = pd.read_csv('wti-crude-oil-prices-10-year-daily-chart-test.csv')\n",
    "real_crude_price = dataset_test.iloc[:, 1:2].values"
   ]
  },
  {
   "cell_type": "code",
   "execution_count": 46,
   "id": "cb8bb9df",
   "metadata": {},
   "outputs": [
    {
     "data": {
      "text/plain": [
       "['date', ' value']"
      ]
     },
     "execution_count": 46,
     "metadata": {},
     "output_type": "execute_result"
    }
   ],
   "source": [
    "list(dataset_test)"
   ]
  },
  {
   "cell_type": "markdown",
   "id": "80517a52",
   "metadata": {
    "colab_type": "text",
    "id": "GrvrLblxkz42"
   },
   "source": [
    "### Getting the predicted crude price of june and july 2024"
   ]
  },
  {
   "cell_type": "code",
   "execution_count": 58,
   "id": "a47e5a93",
   "metadata": {
    "colab": {},
    "colab_type": "code",
    "id": "emikTvUpk3Ck"
   },
   "outputs": [
    {
     "name": "stdout",
     "output_type": "stream",
     "text": [
      "2/2 [==============================] - 0s 23ms/step\n"
     ]
    }
   ],
   "source": [
    "dataset_total = pd.concat((dataset_train[' value'], dataset_test[' value']), axis = 0)\n",
    "inputs = dataset_total[len(dataset_total) - len(dataset_test) - 45:].values\n",
    "inputs = inputs.reshape(-1,1)\n",
    "inputs = sc.transform(inputs)\n",
    "X_test = []\n",
    "for i in range(45, 90):\n",
    "    X_test.append(inputs[i-45:i, 0])\n",
    "X_test = np.array(X_test)\n",
    "X_test = np.reshape(X_test, (X_test.shape[0], X_test.shape[1], 1))\n",
    "predicted_crude_price = regressor.predict(X_test)\n",
    "predicted_crude_price = sc.inverse_transform(predicted_crude_price)"
   ]
  },
  {
   "cell_type": "markdown",
   "id": "7e72cf45",
   "metadata": {
    "colab_type": "text",
    "id": "iFTNs3YHk6FQ"
   },
   "source": [
    "### Visualising the results"
   ]
  },
  {
   "cell_type": "code",
   "execution_count": 59,
   "id": "198c4ec6",
   "metadata": {
    "colab": {
     "base_uri": "https://localhost:8080/",
     "height": 295
    },
    "colab_type": "code",
    "id": "8OUI8U49k9tH",
    "outputId": "db0ed15e-071b-4bae-955e-0eda3df95238"
   },
   "outputs": [
    {
     "data": {
      "image/png": "[encoded data removed]",
      "text/plain": [
       "<Figure size 640x480 with 1 Axes>"
      ]
     },
     "metadata": {},
     "output_type": "display_data"
    }
   ],
   "source": [
    "plt.plot(real_crude_price, color = 'red', label = 'Real Crude Price')\n",
    "plt.plot(predicted_crude_price, color = 'blue', label = 'Predicted Crude Price')\n",
    "plt.title('Crude Price Prediction')\n",
    "plt.xlabel('Time')\n",
    "plt.ylabel('Crude Price')\n",
    "plt.legend()\n",
    "plt.show()"
   ]
  },
  {
   "cell_type": "code",
   "execution_count": null,
   "id": "9fc9ae7a",
   "metadata": {},
   "outputs": [],
   "source": []
  }
 ],
 "metadata": {
  "kernelspec": {
   "display_name": "Python 3 (ipykernel)",
   "language": "python",
   "name": "python3"
  },
  "language_info": {
   "codemirror_mode": {
    "name": "ipython",
    "version": 3
   },
   "file_extension": ".py",
   "mimetype": "text/x-python",
   "name": "python",
   "nbconvert_exporter": "python",
   "pygments_lexer": "ipython3",
   "version": "3.9.18"
  }
 },
 "nbformat": 4,
 "nbformat_minor": 5
}
